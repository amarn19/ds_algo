{
 "cells": [
  {
   "cell_type": "code",
   "execution_count": null,
   "metadata": {},
   "outputs": [],
   "source": [
    "#sum of n numbers -- for loop\n",
    "def sum(a):\n",
    "    s=0 # constant time\n",
    "    for i in range(0,a+1):\n",
    "        s += i   \n",
    "    return s # constant time\n",
    "if __name__ == '__main__':\n",
    "    print('sum of numbers')\n",
    "    print(sum(3))\n",
    "##the number of operations constant dependent of input size//time =(c1n+constant time)\n"
   ]
  },
  {
   "cell_type": "code",
   "execution_count": 1,
   "metadata": {
    "tags": []
   },
   "outputs": [
    {
     "output_type": "stream",
     "name": "stdout",
     "text": "sum of numbers\n6.0\n"
    }
   ],
   "source": [
    "#sum of n numbers -- sumofn numbers formula\n",
    "def sum(a): \n",
    "    return (a*(a+1)/2)\n",
    "if __name__ == '__main__':\n",
    "    print('sum of numbers')\n",
    "    print(sum(3))\n",
    "#the number of operations constant independent of input size (c1)"
   ]
  },
  {
   "cell_type": "code",
   "execution_count": 4,
   "metadata": {
    "tags": []
   },
   "outputs": [
    {
     "output_type": "stream",
     "name": "stdout",
     "text": "sum of numbers\n6\n"
    }
   ],
   "source": [
    "#sum of n numbers -- 1+(1+1)+(1+1+1)\n",
    "def sum(a):\n",
    "    s=0\n",
    "    for i in range(0,a+1):\n",
    "        for j in range(1,i+1): #time = n*(n+1)/2 -- inner loop runs 1 for i=1 2 for i =2 and so on ==c*n*n\n",
    "            s+=1  \n",
    "    return s\n",
    "if __name__ == '__main__':\n",
    "    print('sum of numbers')\n",
    "    print(sum(3))\n",
    "##the number of operations constant dependent of input size//time =(c1n*n+c2n+constant time)"
   ]
  },
  {
   "cell_type": "code",
   "execution_count": null,
   "metadata": {},
   "outputs": [],
   "source": []
  }
 ],
 "metadata": {
  "language_info": {
   "codemirror_mode": {
    "name": "ipython",
    "version": 3
   },
   "file_extension": ".py",
   "mimetype": "text/x-python",
   "name": "python",
   "nbconvert_exporter": "python",
   "pygments_lexer": "ipython3",
   "version": "3.8.3-final"
  },
  "orig_nbformat": 2,
  "kernelspec": {
   "name": "python38364bitbe30412626b94132bef80b49b374e3c9",
   "display_name": "Python 3.8.3 64-bit"
  }
 },
 "nbformat": 4,
 "nbformat_minor": 2
}